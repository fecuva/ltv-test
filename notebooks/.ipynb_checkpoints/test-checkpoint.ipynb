{
 "cells": [
  {
   "cell_type": "code",
   "execution_count": 1,
   "metadata": {},
   "outputs": [],
   "source": [
    "import pandas as pd\n",
    "import subprocess \n",
    "import os\n",
    "import numpy as np"
   ]
  },
  {
   "cell_type": "code",
   "execution_count": 17,
   "metadata": {},
   "outputs": [
    {
     "data": {
      "text/plain": [
       "['test.csv', 'vehicle_challenge.csv.gz']"
      ]
     },
     "execution_count": 17,
     "metadata": {},
     "output_type": "execute_result"
    }
   ],
   "source": [
    "os.listdir('../files')"
   ]
  },
  {
   "cell_type": "code",
   "execution_count": 31,
   "metadata": {},
   "outputs": [
    {
     "data": {
      "text/plain": [
       "'/Users/felipe/docker_test/airflow-docker/notebooks'"
      ]
     },
     "execution_count": 31,
     "metadata": {},
     "output_type": "execute_result"
    }
   ],
   "source": [
    "subprocess.getoutput('pwd')"
   ]
  },
  {
   "cell_type": "code",
   "execution_count": 36,
   "metadata": {},
   "outputs": [
    {
     "data": {
      "text/plain": [
       "'  500000'"
      ]
     },
     "execution_count": 36,
     "metadata": {},
     "output_type": "execute_result"
    }
   ],
   "source": [
    "result = subprocess.getoutput('gzip -dc ../files/vehicle_challenge.csv.gz | wc -l')\n",
    "result"
   ]
  },
  {
   "cell_type": "code",
   "execution_count": 68,
   "metadata": {},
   "outputs": [
    {
     "data": {
      "text/plain": [
       "'23'"
      ]
     },
     "execution_count": 68,
     "metadata": {},
     "output_type": "execute_result"
    }
   ],
   "source": [
    "subprocess.getoutput(\"awk '{print NF}' ../files/vehicle_challenge.csv | sort -nu | tail -n 1\")\n"
   ]
  },
  {
   "cell_type": "code",
   "execution_count": 66,
   "metadata": {},
   "outputs": [
    {
     "name": "stdout",
     "output_type": "stream",
     "text": [
      "id,vin,price,miles,stock_no,year,make,model,trim,body_type,vehicle_type,drivetrain,transmission,fuel_type,engine_size,engine_block,seller_name,street,city,state,zip\n",
      "\n"
     ]
    }
   ],
   "source": [
    "with open('../files/vehicle_challenge.csv', 'r') as f:\n",
    "        lines = f.readlines()\n",
    "        for l in lines: \n",
    "            print(l)\n",
    "            break\n"
   ]
  },
  {
   "cell_type": "code",
   "execution_count": 39,
   "metadata": {},
   "outputs": [
    {
     "data": {
      "text/plain": [
       "'hola  500000'"
      ]
     },
     "execution_count": 39,
     "metadata": {},
     "output_type": "execute_result"
    }
   ],
   "source": [
    "'hola'+result"
   ]
  },
  {
   "cell_type": "code",
   "execution_count": 6,
   "metadata": {},
   "outputs": [],
   "source": [
    "pd.set_option('display.max_columns', None)\n"
   ]
  },
  {
   "cell_type": "code",
   "execution_count": 2,
   "metadata": {},
   "outputs": [
    {
     "name": "stderr",
     "output_type": "stream",
     "text": [
      "/var/folders/qw/qlh96nrs6wzg02z_zhw1ghhm0000gn/T/ipykernel_78004/3108565309.py:1: DtypeWarning: Columns (2,3,5,14,20) have mixed types. Specify dtype option on import or set low_memory=False.\n",
      "  df = pd.read_csv('../files/vehicle_challenge.csv')\n"
     ]
    },
    {
     "data": {
      "text/html": [
       "<div>\n",
       "<style scoped>\n",
       "    .dataframe tbody tr th:only-of-type {\n",
       "        vertical-align: middle;\n",
       "    }\n",
       "\n",
       "    .dataframe tbody tr th {\n",
       "        vertical-align: top;\n",
       "    }\n",
       "\n",
       "    .dataframe thead th {\n",
       "        text-align: right;\n",
       "    }\n",
       "</style>\n",
       "<table border=\"1\" class=\"dataframe\">\n",
       "  <thead>\n",
       "    <tr style=\"text-align: right;\">\n",
       "      <th></th>\n",
       "      <th>id</th>\n",
       "      <th>vin</th>\n",
       "      <th>price</th>\n",
       "      <th>miles</th>\n",
       "      <th>stock_no</th>\n",
       "      <th>year</th>\n",
       "      <th>make</th>\n",
       "      <th>model</th>\n",
       "      <th>trim</th>\n",
       "      <th>body_type</th>\n",
       "      <th>...</th>\n",
       "      <th>drivetrain</th>\n",
       "      <th>transmission</th>\n",
       "      <th>fuel_type</th>\n",
       "      <th>engine_size</th>\n",
       "      <th>engine_block</th>\n",
       "      <th>seller_name</th>\n",
       "      <th>street</th>\n",
       "      <th>city</th>\n",
       "      <th>state</th>\n",
       "      <th>zip</th>\n",
       "    </tr>\n",
       "  </thead>\n",
       "  <tbody>\n",
       "    <tr>\n",
       "      <th>0</th>\n",
       "      <td>38b2f52e-8f5d</td>\n",
       "      <td>1GCWGFCF3F1284719</td>\n",
       "      <td>20998.0</td>\n",
       "      <td>115879.0</td>\n",
       "      <td>W1T503168C</td>\n",
       "      <td>2015</td>\n",
       "      <td>Chevrolet</td>\n",
       "      <td>Express Cargo</td>\n",
       "      <td>Work Van</td>\n",
       "      <td>Cargo Van</td>\n",
       "      <td>...</td>\n",
       "      <td>RWD</td>\n",
       "      <td>Automatic</td>\n",
       "      <td>E85 / Unleaded</td>\n",
       "      <td>4.8</td>\n",
       "      <td>V</td>\n",
       "      <td>nissan ellicott city</td>\n",
       "      <td>8569 Baltimore National Pike</td>\n",
       "      <td>Ellicott City</td>\n",
       "      <td>MD</td>\n",
       "      <td>21043</td>\n",
       "    </tr>\n",
       "    <tr>\n",
       "      <th>1</th>\n",
       "      <td>97ba4955-ccf0</td>\n",
       "      <td>WBY7Z8C59JVB87514</td>\n",
       "      <td>27921.0</td>\n",
       "      <td>7339.0</td>\n",
       "      <td>P33243</td>\n",
       "      <td>2018</td>\n",
       "      <td>BMW</td>\n",
       "      <td>i3</td>\n",
       "      <td>s</td>\n",
       "      <td>Hatchback</td>\n",
       "      <td>...</td>\n",
       "      <td>RWD</td>\n",
       "      <td>Automatic</td>\n",
       "      <td>Electric / Premium Unleaded</td>\n",
       "      <td>0.6</td>\n",
       "      <td>I</td>\n",
       "      <td>hendrick honda pompano beach</td>\n",
       "      <td>5381 N Federal Highway</td>\n",
       "      <td>Pompano Beach</td>\n",
       "      <td>FL</td>\n",
       "      <td>33064</td>\n",
       "    </tr>\n",
       "    <tr>\n",
       "      <th>2</th>\n",
       "      <td>be1da9fd-0f34</td>\n",
       "      <td>ML32F4FJ2JHF10325</td>\n",
       "      <td>11055.0</td>\n",
       "      <td>39798.0</td>\n",
       "      <td>WM2091A</td>\n",
       "      <td>2018</td>\n",
       "      <td>Mitsubishi</td>\n",
       "      <td>Mirage G4</td>\n",
       "      <td>SE</td>\n",
       "      <td>Sedan</td>\n",
       "      <td>...</td>\n",
       "      <td>FWD</td>\n",
       "      <td>Automatic</td>\n",
       "      <td>Unleaded</td>\n",
       "      <td>1.2</td>\n",
       "      <td>I</td>\n",
       "      <td>russ darrow toyota</td>\n",
       "      <td>2700 West Washington St.</td>\n",
       "      <td>West Bend</td>\n",
       "      <td>WI</td>\n",
       "      <td>53095</td>\n",
       "    </tr>\n",
       "    <tr>\n",
       "      <th>3</th>\n",
       "      <td>84327e45-6cb6</td>\n",
       "      <td>1GCPTEE15K1291189</td>\n",
       "      <td>52997.0</td>\n",
       "      <td>28568.0</td>\n",
       "      <td>9U2Y425A</td>\n",
       "      <td>2019</td>\n",
       "      <td>Chevrolet</td>\n",
       "      <td>Colorado</td>\n",
       "      <td>ZR2</td>\n",
       "      <td>Pickup</td>\n",
       "      <td>...</td>\n",
       "      <td>4WD</td>\n",
       "      <td>Automatic</td>\n",
       "      <td>Diesel</td>\n",
       "      <td>2.8</td>\n",
       "      <td>I</td>\n",
       "      <td>young kia</td>\n",
       "      <td>308 North Main Street</td>\n",
       "      <td>Layton</td>\n",
       "      <td>UT</td>\n",
       "      <td>84041</td>\n",
       "    </tr>\n",
       "    <tr>\n",
       "      <th>4</th>\n",
       "      <td>cde691c3-91dd</td>\n",
       "      <td>1G2AL18F087312093</td>\n",
       "      <td>NaN</td>\n",
       "      <td>188485.0</td>\n",
       "      <td>T36625A</td>\n",
       "      <td>2008</td>\n",
       "      <td>Pontiac</td>\n",
       "      <td>G5</td>\n",
       "      <td>Base</td>\n",
       "      <td>Coupe</td>\n",
       "      <td>...</td>\n",
       "      <td>FWD</td>\n",
       "      <td>Automatic</td>\n",
       "      <td>Unleaded</td>\n",
       "      <td>2.2</td>\n",
       "      <td>I</td>\n",
       "      <td>pappas toyota</td>\n",
       "      <td>10011 Spencer Rd</td>\n",
       "      <td>Saint Peters</td>\n",
       "      <td>MO</td>\n",
       "      <td>63376</td>\n",
       "    </tr>\n",
       "  </tbody>\n",
       "</table>\n",
       "<p>5 rows × 21 columns</p>\n",
       "</div>"
      ],
      "text/plain": [
       "              id                vin    price     miles    stock_no  year  \\\n",
       "0  38b2f52e-8f5d  1GCWGFCF3F1284719  20998.0  115879.0  W1T503168C  2015   \n",
       "1  97ba4955-ccf0  WBY7Z8C59JVB87514  27921.0    7339.0      P33243  2018   \n",
       "2  be1da9fd-0f34  ML32F4FJ2JHF10325  11055.0   39798.0     WM2091A  2018   \n",
       "3  84327e45-6cb6  1GCPTEE15K1291189  52997.0   28568.0    9U2Y425A  2019   \n",
       "4  cde691c3-91dd  1G2AL18F087312093      NaN  188485.0     T36625A  2008   \n",
       "\n",
       "         make          model      trim  body_type  ... drivetrain  \\\n",
       "0   Chevrolet  Express Cargo  Work Van  Cargo Van  ...        RWD   \n",
       "1         BMW             i3         s  Hatchback  ...        RWD   \n",
       "2  Mitsubishi      Mirage G4        SE      Sedan  ...        FWD   \n",
       "3   Chevrolet       Colorado       ZR2     Pickup  ...        4WD   \n",
       "4     Pontiac             G5      Base      Coupe  ...        FWD   \n",
       "\n",
       "  transmission                    fuel_type engine_size engine_block  \\\n",
       "0    Automatic               E85 / Unleaded         4.8            V   \n",
       "1    Automatic  Electric / Premium Unleaded         0.6            I   \n",
       "2    Automatic                     Unleaded         1.2            I   \n",
       "3    Automatic                       Diesel         2.8            I   \n",
       "4    Automatic                     Unleaded         2.2            I   \n",
       "\n",
       "                    seller_name                        street           city  \\\n",
       "0          nissan ellicott city  8569 Baltimore National Pike  Ellicott City   \n",
       "1  hendrick honda pompano beach        5381 N Federal Highway  Pompano Beach   \n",
       "2            russ darrow toyota      2700 West Washington St.      West Bend   \n",
       "3                     young kia         308 North Main Street         Layton   \n",
       "4                 pappas toyota              10011 Spencer Rd   Saint Peters   \n",
       "\n",
       "  state    zip  \n",
       "0    MD  21043  \n",
       "1    FL  33064  \n",
       "2    WI  53095  \n",
       "3    UT  84041  \n",
       "4    MO  63376  \n",
       "\n",
       "[5 rows x 21 columns]"
      ]
     },
     "execution_count": 2,
     "metadata": {},
     "output_type": "execute_result"
    }
   ],
   "source": [
    "df = pd.read_csv('../files/vehicle_challenge.csv')\n",
    "df.head()"
   ]
  },
  {
   "cell_type": "code",
   "execution_count": 3,
   "metadata": {},
   "outputs": [
    {
     "name": "stdout",
     "output_type": "stream",
     "text": [
      "['E85 / Unleaded', 'Electric / Premium Unleaded', 'Unleaded', 'Diesel', 'Premium Unleaded', 'Premium Unleaded; Unleaded', nan, 'Unleaded / Electric', 'Premium Unleaded / Unleaded', 'Electric / Unleaded', 'Unleaded; Unleaded / E85', 'Unleaded / E85', 'Premium Unleaded / Natural Gas', 'E85 / Unleaded; Unleaded', 'Diesel; Unleaded', 'Unleaded; Unleaded / Natural Gas', 'E85 / Premium Unleaded; E85 / Unleaded', 'Compressed Natural Gas', 'E85', 'Electric', 'E85 / Premium Unleaded', 'Electric / Hydrogen', 'Compressed Natural Gas; Unleaded', 'E85 / Unleaded; Unleaded / Unleaded', 'Premium Unleaded; Premium Unleaded / E85', 'Electric / Premium Unleaded; Electric / Unleaded', 'Premium Unleaded / Unleaded; Unleaded', 'fuel_type']\n"
     ]
    }
   ],
   "source": [
    "raw_fuels =df.fuel_type.unique().tolist()\n",
    "print(raw_fuels)\n",
    "raw_fuels.remove(np.nan)"
   ]
  },
  {
   "cell_type": "code",
   "execution_count": null,
   "metadata": {},
   "outputs": [],
   "source": [
    "[gasoline, gas, diesel, hybrid,electric,]"
   ]
  },
  {
   "cell_type": "code",
   "execution_count": 12,
   "metadata": {},
   "outputs": [],
   "source": [
    "types = {\n",
    "'gasoline' : [\"E85 / Unleaded\",'Unleaded','Premium Unleaded',\n",
    "            'Premium Unleaded; Unleaded','Premium Unleaded / Unleaded',\n",
    "            'Unleaded; Unleaded / E85','Unleaded / E85','E85 / Premium Unleaded',\n",
    "            'Premium Unleaded; Premium Unleaded / E85','Premium Unleaded / Unleaded; Unleaded'],\n",
    "'hybrid' : ['Electric / Premium Unleaded','Unleaded / Electric','Electric / Unleaded',\n",
    "            'Premium Unleaded / Natural Gas','Unleaded; Unleaded / Natural Gas'\n",
    "            'Compressed Natural Gas; Unleaded','Electric / Premium Unleaded; Electric / Unleaded'],\n",
    "'diesel' : ['Diesel','Diesel; Unleaded'],\n",
    "'gas':['Compressed Natural Gas'],\n",
    "'electric':['Electric','Electric / Hydrogen']\n",
    "\n",
    "}\n"
   ]
  },
  {
   "cell_type": "code",
   "execution_count": 15,
   "metadata": {},
   "outputs": [
    {
     "data": {
      "text/plain": [
       "['Electric', 'Electric / Hydrogen']"
      ]
     },
     "execution_count": 15,
     "metadata": {},
     "output_type": "execute_result"
    }
   ],
   "source": [
    "types['electric']"
   ]
  },
  {
   "cell_type": "code",
   "execution_count": 30,
   "metadata": {},
   "outputs": [],
   "source": [
    "def map_fuels(x,types):\n",
    "    for full_type in types:\n",
    "        if x in types[full_type]:\n",
    "            return full_type\n",
    "            "
   ]
  },
  {
   "cell_type": "code",
   "execution_count": 37,
   "metadata": {},
   "outputs": [
    {
     "name": "stdout",
     "output_type": "stream",
     "text": [
      "['gasoline' 'hybrid' 'diesel' None 'gas' 'electric']\n"
     ]
    },
    {
     "data": {
      "text/plain": [
       "gasoline    443096\n",
       "hybrid       14181\n",
       "electric     10746\n",
       "diesel        7824\n",
       "gas             12\n",
       "Name: fuel_type, dtype: int64"
      ]
     },
     "execution_count": 37,
     "metadata": {},
     "output_type": "execute_result"
    }
   ],
   "source": [
    "print(df.fuel_type.apply(map_fuels,args= (types,)).unique())\n",
    "df.fuel_type.apply(map_fuels,args= (types,)).value_counts()"
   ]
  },
  {
   "cell_type": "code",
   "execution_count": 19,
   "metadata": {},
   "outputs": [
    {
     "name": "stdout",
     "output_type": "stream",
     "text": [
      "E85 / Unleaded\n",
      "Electric / Premium Unleaded\n",
      "Unleaded\n",
      "Diesel\n",
      "Premium Unleaded\n",
      "Premium Unleaded; Unleaded\n",
      "Unleaded / Electric\n",
      "Premium Unleaded / Unleaded\n",
      "Electric / Unleaded\n",
      "Unleaded; Unleaded / E85\n",
      "Unleaded / E85\n",
      "Premium Unleaded / Natural Gas\n",
      "Diesel; Unleaded\n",
      "Unleaded; Unleaded / Natural Gas\n",
      "Compressed Natural Gas\n",
      "Electric\n",
      "E85 / Premium Unleaded\n",
      "Electric / Hydrogen\n",
      "Compressed Natural Gas; Unleaded\n",
      "Premium Unleaded; Premium Unleaded / E85\n",
      "Electric / Premium Unleaded; Electric / Unleaded\n",
      "Premium Unleaded / Unleaded; Unleaded\n",
      "fuel_type\n",
      "['Premium Unleaded / Natural Gas', 'Unleaded; Unleaded / Natural Gas', 'Compressed Natural Gas', 'Compressed Natural Gas; Unleaded']\n"
     ]
    }
   ],
   "source": [
    "gas = []\n",
    "for fuel in raw_fuels: \n",
    "    print(fuel)\n",
    "    if 'gas' in fuel.lower() and : \n",
    "        gas.append(fuel)\n",
    "        raw_fuels.remove(fuel)\n",
    "print(gas)    "
   ]
  },
  {
   "cell_type": "code",
   "execution_count": 112,
   "metadata": {},
   "outputs": [
    {
     "data": {
      "text/plain": [
       "51555"
      ]
     },
     "execution_count": 112,
     "metadata": {},
     "output_type": "execute_result"
    }
   ],
   "source": [
    "df.price.isna().sum()"
   ]
  },
  {
   "cell_type": "code",
   "execution_count": 83,
   "metadata": {},
   "outputs": [
    {
     "data": {
      "text/html": [
       "<div>\n",
       "<style scoped>\n",
       "    .dataframe tbody tr th:only-of-type {\n",
       "        vertical-align: middle;\n",
       "    }\n",
       "\n",
       "    .dataframe tbody tr th {\n",
       "        vertical-align: top;\n",
       "    }\n",
       "\n",
       "    .dataframe thead th {\n",
       "        text-align: right;\n",
       "    }\n",
       "</style>\n",
       "<table border=\"1\" class=\"dataframe\">\n",
       "  <thead>\n",
       "    <tr style=\"text-align: right;\">\n",
       "      <th></th>\n",
       "      <th>id</th>\n",
       "      <th>vin</th>\n",
       "      <th>price</th>\n",
       "      <th>miles</th>\n",
       "      <th>stock_no</th>\n",
       "      <th>year</th>\n",
       "      <th>make</th>\n",
       "      <th>model</th>\n",
       "      <th>trim</th>\n",
       "      <th>body_type</th>\n",
       "      <th>vehicle_type</th>\n",
       "      <th>drivetrain</th>\n",
       "      <th>transmission</th>\n",
       "      <th>fuel_type</th>\n",
       "      <th>engine_size</th>\n",
       "      <th>engine_block</th>\n",
       "      <th>seller_name</th>\n",
       "      <th>street</th>\n",
       "      <th>city</th>\n",
       "      <th>state</th>\n",
       "      <th>zip</th>\n",
       "    </tr>\n",
       "  </thead>\n",
       "  <tbody>\n",
       "  </tbody>\n",
       "</table>\n",
       "</div>"
      ],
      "text/plain": [
       "Empty DataFrame\n",
       "Columns: [id, vin, price, miles, stock_no, year, make, model, trim, body_type, vehicle_type, drivetrain, transmission, fuel_type, engine_size, engine_block, seller_name, street, city, state, zip]\n",
       "Index: []"
      ]
     },
     "execution_count": 83,
     "metadata": {},
     "output_type": "execute_result"
    }
   ],
   "source": [
    "df[df['price']==' ']"
   ]
  },
  {
   "cell_type": "code",
   "execution_count": 80,
   "metadata": {},
   "outputs": [
    {
     "data": {
      "text/plain": [
       "array(['Truck', 'Car', nan, 'vehicle_type'], dtype=object)"
      ]
     },
     "execution_count": 80,
     "metadata": {},
     "output_type": "execute_result"
    }
   ],
   "source": [
    "df.vehicle_type.unique()"
   ]
  },
  {
   "cell_type": "code",
   "execution_count": null,
   "metadata": {},
   "outputs": [],
   "source": [
    ".groupby(['city']).count()"
   ]
  },
  {
   "cell_type": "code",
   "execution_count": 103,
   "metadata": {},
   "outputs": [
    {
     "data": {
      "text/html": [
       "<div>\n",
       "<style scoped>\n",
       "    .dataframe tbody tr th:only-of-type {\n",
       "        vertical-align: middle;\n",
       "    }\n",
       "\n",
       "    .dataframe tbody tr th {\n",
       "        vertical-align: top;\n",
       "    }\n",
       "\n",
       "    .dataframe thead th {\n",
       "        text-align: right;\n",
       "    }\n",
       "</style>\n",
       "<table border=\"1\" class=\"dataframe\">\n",
       "  <thead>\n",
       "    <tr style=\"text-align: right;\">\n",
       "      <th></th>\n",
       "      <th>id</th>\n",
       "      <th>vin</th>\n",
       "      <th>price</th>\n",
       "      <th>miles</th>\n",
       "      <th>stock_no</th>\n",
       "      <th>year</th>\n",
       "      <th>make</th>\n",
       "      <th>model</th>\n",
       "      <th>trim</th>\n",
       "      <th>body_type</th>\n",
       "      <th>vehicle_type</th>\n",
       "      <th>drivetrain</th>\n",
       "      <th>transmission</th>\n",
       "      <th>fuel_type</th>\n",
       "      <th>engine_size</th>\n",
       "      <th>engine_block</th>\n",
       "      <th>seller_name</th>\n",
       "      <th>street</th>\n",
       "      <th>city</th>\n",
       "      <th>state</th>\n",
       "      <th>zip</th>\n",
       "    </tr>\n",
       "  </thead>\n",
       "  <tbody>\n",
       "    <tr>\n",
       "      <th>0</th>\n",
       "      <td>38b2f52e-8f5d</td>\n",
       "      <td>1GCWGFCF3F1284719</td>\n",
       "      <td>20998.0</td>\n",
       "      <td>115879.0</td>\n",
       "      <td>W1T503168C</td>\n",
       "      <td>2015</td>\n",
       "      <td>Chevrolet</td>\n",
       "      <td>Express Cargo</td>\n",
       "      <td>Work Van</td>\n",
       "      <td>Cargo Van</td>\n",
       "      <td>Truck</td>\n",
       "      <td>RWD</td>\n",
       "      <td>Automatic</td>\n",
       "      <td>E85 / Unleaded</td>\n",
       "      <td>4.8</td>\n",
       "      <td>V</td>\n",
       "      <td>nissan ellicott city</td>\n",
       "      <td>8569 Baltimore National Pike</td>\n",
       "      <td>Ellicott City</td>\n",
       "      <td>MD</td>\n",
       "      <td>21043</td>\n",
       "    </tr>\n",
       "    <tr>\n",
       "      <th>1</th>\n",
       "      <td>97ba4955-ccf0</td>\n",
       "      <td>WBY7Z8C59JVB87514</td>\n",
       "      <td>27921.0</td>\n",
       "      <td>7339.0</td>\n",
       "      <td>P33243</td>\n",
       "      <td>2018</td>\n",
       "      <td>BMW</td>\n",
       "      <td>i3</td>\n",
       "      <td>s</td>\n",
       "      <td>Hatchback</td>\n",
       "      <td>Car</td>\n",
       "      <td>RWD</td>\n",
       "      <td>Automatic</td>\n",
       "      <td>Electric / Premium Unleaded</td>\n",
       "      <td>0.6</td>\n",
       "      <td>I</td>\n",
       "      <td>hendrick honda pompano beach</td>\n",
       "      <td>5381 N Federal Highway</td>\n",
       "      <td>Pompano Beach</td>\n",
       "      <td>FL</td>\n",
       "      <td>33064</td>\n",
       "    </tr>\n",
       "    <tr>\n",
       "      <th>2</th>\n",
       "      <td>be1da9fd-0f34</td>\n",
       "      <td>ML32F4FJ2JHF10325</td>\n",
       "      <td>11055.0</td>\n",
       "      <td>39798.0</td>\n",
       "      <td>WM2091A</td>\n",
       "      <td>2018</td>\n",
       "      <td>Mitsubishi</td>\n",
       "      <td>Mirage G4</td>\n",
       "      <td>SE</td>\n",
       "      <td>Sedan</td>\n",
       "      <td>Car</td>\n",
       "      <td>FWD</td>\n",
       "      <td>Automatic</td>\n",
       "      <td>Unleaded</td>\n",
       "      <td>1.2</td>\n",
       "      <td>I</td>\n",
       "      <td>russ darrow toyota</td>\n",
       "      <td>2700 West Washington St.</td>\n",
       "      <td>West Bend</td>\n",
       "      <td>WI</td>\n",
       "      <td>53095</td>\n",
       "    </tr>\n",
       "    <tr>\n",
       "      <th>3</th>\n",
       "      <td>84327e45-6cb6</td>\n",
       "      <td>1GCPTEE15K1291189</td>\n",
       "      <td>52997.0</td>\n",
       "      <td>28568.0</td>\n",
       "      <td>9U2Y425A</td>\n",
       "      <td>2019</td>\n",
       "      <td>Chevrolet</td>\n",
       "      <td>Colorado</td>\n",
       "      <td>ZR2</td>\n",
       "      <td>Pickup</td>\n",
       "      <td>Truck</td>\n",
       "      <td>4WD</td>\n",
       "      <td>Automatic</td>\n",
       "      <td>Diesel</td>\n",
       "      <td>2.8</td>\n",
       "      <td>I</td>\n",
       "      <td>young kia</td>\n",
       "      <td>308 North Main Street</td>\n",
       "      <td>Layton</td>\n",
       "      <td>UT</td>\n",
       "      <td>84041</td>\n",
       "    </tr>\n",
       "    <tr>\n",
       "      <th>6</th>\n",
       "      <td>43847b9a-6fed</td>\n",
       "      <td>1B7HC16Y8YS543285</td>\n",
       "      <td>3995.0</td>\n",
       "      <td>137537.0</td>\n",
       "      <td>BP8246A</td>\n",
       "      <td>2000</td>\n",
       "      <td>Dodge</td>\n",
       "      <td>Ram Pickup</td>\n",
       "      <td>ST</td>\n",
       "      <td>Pickup</td>\n",
       "      <td>Truck</td>\n",
       "      <td>RWD</td>\n",
       "      <td>Manual</td>\n",
       "      <td>Unleaded</td>\n",
       "      <td>5.2</td>\n",
       "      <td>V</td>\n",
       "      <td>baumann auto group</td>\n",
       "      <td>2379 W. State St.</td>\n",
       "      <td>Fremont</td>\n",
       "      <td>OH</td>\n",
       "      <td>43420</td>\n",
       "    </tr>\n",
       "    <tr>\n",
       "      <th>...</th>\n",
       "      <td>...</td>\n",
       "      <td>...</td>\n",
       "      <td>...</td>\n",
       "      <td>...</td>\n",
       "      <td>...</td>\n",
       "      <td>...</td>\n",
       "      <td>...</td>\n",
       "      <td>...</td>\n",
       "      <td>...</td>\n",
       "      <td>...</td>\n",
       "      <td>...</td>\n",
       "      <td>...</td>\n",
       "      <td>...</td>\n",
       "      <td>...</td>\n",
       "      <td>...</td>\n",
       "      <td>...</td>\n",
       "      <td>...</td>\n",
       "      <td>...</td>\n",
       "      <td>...</td>\n",
       "      <td>...</td>\n",
       "      <td>...</td>\n",
       "    </tr>\n",
       "    <tr>\n",
       "      <th>499993</th>\n",
       "      <td>2afbbdab-f39b</td>\n",
       "      <td>1FADP3K26JL304520</td>\n",
       "      <td>17995.0</td>\n",
       "      <td>22038.0</td>\n",
       "      <td>130578</td>\n",
       "      <td>2018</td>\n",
       "      <td>Ford</td>\n",
       "      <td>Focus</td>\n",
       "      <td>SE</td>\n",
       "      <td>Hatchback</td>\n",
       "      <td>Car</td>\n",
       "      <td>FWD</td>\n",
       "      <td>Automatic</td>\n",
       "      <td>Unleaded</td>\n",
       "      <td>2</td>\n",
       "      <td>I</td>\n",
       "      <td>crown dodge</td>\n",
       "      <td>555 W Cypress Avenue</td>\n",
       "      <td>Redding</td>\n",
       "      <td>CA</td>\n",
       "      <td>96001.0</td>\n",
       "    </tr>\n",
       "    <tr>\n",
       "      <th>499994</th>\n",
       "      <td>c5836cec-f239</td>\n",
       "      <td>1FADP3F28JL242127</td>\n",
       "      <td>14377.0</td>\n",
       "      <td>57223.0</td>\n",
       "      <td>923464A</td>\n",
       "      <td>2018</td>\n",
       "      <td>Ford</td>\n",
       "      <td>Focus</td>\n",
       "      <td>SE</td>\n",
       "      <td>Sedan</td>\n",
       "      <td>Car</td>\n",
       "      <td>FWD</td>\n",
       "      <td>Manual</td>\n",
       "      <td>E85 / Unleaded</td>\n",
       "      <td>2</td>\n",
       "      <td>I</td>\n",
       "      <td>darling's brunswick ford</td>\n",
       "      <td>262 Bath Road</td>\n",
       "      <td>Brunswick</td>\n",
       "      <td>ME</td>\n",
       "      <td>4011.0</td>\n",
       "    </tr>\n",
       "    <tr>\n",
       "      <th>499995</th>\n",
       "      <td>2080fae4-9df4</td>\n",
       "      <td>1FADP3K29FL243896</td>\n",
       "      <td>8990.0</td>\n",
       "      <td>98692.0</td>\n",
       "      <td>BA217030A</td>\n",
       "      <td>2015</td>\n",
       "      <td>Ford</td>\n",
       "      <td>Focus</td>\n",
       "      <td>SE</td>\n",
       "      <td>Hatchback</td>\n",
       "      <td>Car</td>\n",
       "      <td>FWD</td>\n",
       "      <td>Manual</td>\n",
       "      <td>E85 / Unleaded</td>\n",
       "      <td>2</td>\n",
       "      <td>I</td>\n",
       "      <td>chapman volkswagen of tucson</td>\n",
       "      <td>4500 E. 22nd St.</td>\n",
       "      <td>Tucson</td>\n",
       "      <td>AZ</td>\n",
       "      <td>85711.0</td>\n",
       "    </tr>\n",
       "    <tr>\n",
       "      <th>499996</th>\n",
       "      <td>5def7566-3e38</td>\n",
       "      <td>1FADP3F22EL438134</td>\n",
       "      <td>8188.0</td>\n",
       "      <td>88554.0</td>\n",
       "      <td>M10217A</td>\n",
       "      <td>2014</td>\n",
       "      <td>Ford</td>\n",
       "      <td>Focus</td>\n",
       "      <td>SE</td>\n",
       "      <td>Sedan</td>\n",
       "      <td>Car</td>\n",
       "      <td>FWD</td>\n",
       "      <td>Manual</td>\n",
       "      <td>E85 / Unleaded</td>\n",
       "      <td>2</td>\n",
       "      <td>I</td>\n",
       "      <td>mercedes-benz of durham</td>\n",
       "      <td>110 Kentington Dr.</td>\n",
       "      <td>Durham</td>\n",
       "      <td>NC</td>\n",
       "      <td>27713.0</td>\n",
       "    </tr>\n",
       "    <tr>\n",
       "      <th>499998</th>\n",
       "      <td>43154429-d480</td>\n",
       "      <td>1FADP3F27EL151758</td>\n",
       "      <td>7950.0</td>\n",
       "      <td>101490.0</td>\n",
       "      <td>TA60261B</td>\n",
       "      <td>2014</td>\n",
       "      <td>Ford</td>\n",
       "      <td>Focus</td>\n",
       "      <td>SE</td>\n",
       "      <td>Sedan</td>\n",
       "      <td>Car</td>\n",
       "      <td>FWD</td>\n",
       "      <td>Manual</td>\n",
       "      <td>E85 / Unleaded</td>\n",
       "      <td>2</td>\n",
       "      <td>I</td>\n",
       "      <td>liberty ford maple heights</td>\n",
       "      <td>5500 Warrensville Center Road</td>\n",
       "      <td>Maple Heights</td>\n",
       "      <td>OH</td>\n",
       "      <td>44137.0</td>\n",
       "    </tr>\n",
       "  </tbody>\n",
       "</table>\n",
       "<p>448444 rows × 21 columns</p>\n",
       "</div>"
      ],
      "text/plain": [
       "                   id                vin    price     miles    stock_no  year  \\\n",
       "0       38b2f52e-8f5d  1GCWGFCF3F1284719  20998.0  115879.0  W1T503168C  2015   \n",
       "1       97ba4955-ccf0  WBY7Z8C59JVB87514  27921.0    7339.0      P33243  2018   \n",
       "2       be1da9fd-0f34  ML32F4FJ2JHF10325  11055.0   39798.0     WM2091A  2018   \n",
       "3       84327e45-6cb6  1GCPTEE15K1291189  52997.0   28568.0    9U2Y425A  2019   \n",
       "6       43847b9a-6fed  1B7HC16Y8YS543285   3995.0  137537.0     BP8246A  2000   \n",
       "...               ...                ...      ...       ...         ...   ...   \n",
       "499993  2afbbdab-f39b  1FADP3K26JL304520  17995.0   22038.0      130578  2018   \n",
       "499994  c5836cec-f239  1FADP3F28JL242127  14377.0   57223.0     923464A  2018   \n",
       "499995  2080fae4-9df4  1FADP3K29FL243896   8990.0   98692.0   BA217030A  2015   \n",
       "499996  5def7566-3e38  1FADP3F22EL438134   8188.0   88554.0     M10217A  2014   \n",
       "499998  43154429-d480  1FADP3F27EL151758   7950.0  101490.0    TA60261B  2014   \n",
       "\n",
       "              make          model      trim  body_type vehicle_type  \\\n",
       "0        Chevrolet  Express Cargo  Work Van  Cargo Van        Truck   \n",
       "1              BMW             i3         s  Hatchback          Car   \n",
       "2       Mitsubishi      Mirage G4        SE      Sedan          Car   \n",
       "3        Chevrolet       Colorado       ZR2     Pickup        Truck   \n",
       "6            Dodge     Ram Pickup        ST     Pickup        Truck   \n",
       "...            ...            ...       ...        ...          ...   \n",
       "499993        Ford          Focus        SE  Hatchback          Car   \n",
       "499994        Ford          Focus        SE      Sedan          Car   \n",
       "499995        Ford          Focus        SE  Hatchback          Car   \n",
       "499996        Ford          Focus        SE      Sedan          Car   \n",
       "499998        Ford          Focus        SE      Sedan          Car   \n",
       "\n",
       "       drivetrain transmission                    fuel_type engine_size  \\\n",
       "0             RWD    Automatic               E85 / Unleaded         4.8   \n",
       "1             RWD    Automatic  Electric / Premium Unleaded         0.6   \n",
       "2             FWD    Automatic                     Unleaded         1.2   \n",
       "3             4WD    Automatic                       Diesel         2.8   \n",
       "6             RWD       Manual                     Unleaded         5.2   \n",
       "...           ...          ...                          ...         ...   \n",
       "499993        FWD    Automatic                     Unleaded           2   \n",
       "499994        FWD       Manual               E85 / Unleaded           2   \n",
       "499995        FWD       Manual               E85 / Unleaded           2   \n",
       "499996        FWD       Manual               E85 / Unleaded           2   \n",
       "499998        FWD       Manual               E85 / Unleaded           2   \n",
       "\n",
       "       engine_block                   seller_name  \\\n",
       "0                 V          nissan ellicott city   \n",
       "1                 I  hendrick honda pompano beach   \n",
       "2                 I            russ darrow toyota   \n",
       "3                 I                     young kia   \n",
       "6                 V            baumann auto group   \n",
       "...             ...                           ...   \n",
       "499993            I                   crown dodge   \n",
       "499994            I      darling's brunswick ford   \n",
       "499995            I  chapman volkswagen of tucson   \n",
       "499996            I       mercedes-benz of durham   \n",
       "499998            I    liberty ford maple heights   \n",
       "\n",
       "                               street           city state      zip  \n",
       "0        8569 Baltimore National Pike  Ellicott City    MD    21043  \n",
       "1              5381 N Federal Highway  Pompano Beach    FL    33064  \n",
       "2            2700 West Washington St.      West Bend    WI    53095  \n",
       "3               308 North Main Street         Layton    UT    84041  \n",
       "6                   2379 W. State St.        Fremont    OH    43420  \n",
       "...                               ...            ...   ...      ...  \n",
       "499993           555 W Cypress Avenue        Redding    CA  96001.0  \n",
       "499994                  262 Bath Road      Brunswick    ME   4011.0  \n",
       "499995               4500 E. 22nd St.         Tucson    AZ  85711.0  \n",
       "499996             110 Kentington Dr.         Durham    NC  27713.0  \n",
       "499998  5500 Warrensville Center Road  Maple Heights    OH  44137.0  \n",
       "\n",
       "[448444 rows x 21 columns]"
      ]
     },
     "execution_count": 103,
     "metadata": {},
     "output_type": "execute_result"
    }
   ],
   "source": [
    "df[~df['price'].isna()]"
   ]
  },
  {
   "cell_type": "code",
   "execution_count": 117,
   "metadata": {},
   "outputs": [
    {
     "data": {
      "text/plain": [
       "1"
      ]
     },
     "execution_count": 117,
     "metadata": {},
     "output_type": "execute_result"
    }
   ],
   "source": [
    "(df['price']=='price').sum()"
   ]
  },
  {
   "cell_type": "code",
   "execution_count": 114,
   "metadata": {},
   "outputs": [],
   "source": [
    "df = df.dropna(subset = ['price','year','miles','engine_size','zip'])"
   ]
  },
  {
   "cell_type": "code",
   "execution_count": 115,
   "metadata": {},
   "outputs": [
    {
     "data": {
      "text/plain": [
       "(404000, 21)"
      ]
     },
     "execution_count": 115,
     "metadata": {},
     "output_type": "execute_result"
    }
   ],
   "source": [
    "df.shape"
   ]
  },
  {
   "cell_type": "code",
   "execution_count": 140,
   "metadata": {},
   "outputs": [],
   "source": [
    "# df[(\n",
    "#     df['vehicle_type']=='Truck') \n",
    "#     & (df['model'].isin(['F-150', 'F-150 Heritage']))  ]"
   ]
  },
  {
   "cell_type": "code",
   "execution_count": 141,
   "metadata": {},
   "outputs": [
    {
     "data": {
      "text/plain": [
       "city\n",
       "Houston        80\n",
       "Orlando        70\n",
       "Medford        56\n",
       "Arlington      50\n",
       "Raleigh        44\n",
       "               ..\n",
       "Maryville       2\n",
       "Massena         2\n",
       "Castroville     2\n",
       "Massilon        2\n",
       "Limon           2\n",
       "Name: model, Length: 1323, dtype: int64"
      ]
     },
     "execution_count": 141,
     "metadata": {},
     "output_type": "execute_result"
    }
   ],
   "source": [
    "df[(\n",
    "    df['vehicle_type']=='Truck') \n",
    "    & (df['model'].isin(['F-150', 'F-150 Heritage']))  ].groupby(['city'])['model'].count().sort_values(ascending=False)"
   ]
  },
  {
   "cell_type": "code",
   "execution_count": null,
   "metadata": {},
   "outputs": [],
   "source": []
  },
  {
   "cell_type": "code",
   "execution_count": 118,
   "metadata": {},
   "outputs": [
    {
     "data": {
      "text/plain": [
       "id              False\n",
       "vin             False\n",
       "price           False\n",
       "miles           False\n",
       "stock_no        False\n",
       "year            False\n",
       "make            False\n",
       "model           False\n",
       "trim            False\n",
       "body_type       False\n",
       "vehicle_type    False\n",
       "drivetrain      False\n",
       "transmission    False\n",
       "fuel_type       False\n",
       "engine_size     False\n",
       "engine_block    False\n",
       "seller_name     False\n",
       "street          False\n",
       "city            False\n",
       "state           False\n",
       "zip              True\n",
       "dtype: bool"
      ]
     },
     "execution_count": 118,
     "metadata": {},
     "output_type": "execute_result"
    }
   ],
   "source": [
    "df.isin(['V1N 1H9']).any()\n"
   ]
  },
  {
   "cell_type": "code",
   "execution_count": 124,
   "metadata": {},
   "outputs": [],
   "source": [
    "import numpy as np"
   ]
  },
  {
   "cell_type": "code",
   "execution_count": 136,
   "metadata": {},
   "outputs": [
    {
     "data": {
      "text/plain": [
       "['J0J 1J0', 'V1N 1H9', 'zip']"
      ]
     },
     "execution_count": 136,
     "metadata": {},
     "output_type": "execute_result"
    }
   ],
   "source": [
    "[zip for zip in  df.zip.unique().tolist() if isinstance(zip, str) and zip.isdigit()==False]"
   ]
  },
  {
   "cell_type": "code",
   "execution_count": 131,
   "metadata": {},
   "outputs": [
    {
     "name": "stderr",
     "output_type": "stream",
     "text": [
      "/var/folders/qw/qlh96nrs6wzg02z_zhw1ghhm0000gn/T/ipykernel_16575/4225055006.py:1: FutureWarning: The default value of regex will change from True to False in a future version.\n",
      "  df[df.zip.str.replace('.0','').str.isdigit().isna()]\n"
     ]
    },
    {
     "data": {
      "text/html": [
       "<div>\n",
       "<style scoped>\n",
       "    .dataframe tbody tr th:only-of-type {\n",
       "        vertical-align: middle;\n",
       "    }\n",
       "\n",
       "    .dataframe tbody tr th {\n",
       "        vertical-align: top;\n",
       "    }\n",
       "\n",
       "    .dataframe thead th {\n",
       "        text-align: right;\n",
       "    }\n",
       "</style>\n",
       "<table border=\"1\" class=\"dataframe\">\n",
       "  <thead>\n",
       "    <tr style=\"text-align: right;\">\n",
       "      <th></th>\n",
       "      <th>id</th>\n",
       "      <th>vin</th>\n",
       "      <th>price</th>\n",
       "      <th>miles</th>\n",
       "      <th>stock_no</th>\n",
       "      <th>year</th>\n",
       "      <th>make</th>\n",
       "      <th>model</th>\n",
       "      <th>trim</th>\n",
       "      <th>body_type</th>\n",
       "      <th>vehicle_type</th>\n",
       "      <th>drivetrain</th>\n",
       "      <th>transmission</th>\n",
       "      <th>fuel_type</th>\n",
       "      <th>engine_size</th>\n",
       "      <th>engine_block</th>\n",
       "      <th>seller_name</th>\n",
       "      <th>street</th>\n",
       "      <th>city</th>\n",
       "      <th>state</th>\n",
       "      <th>zip</th>\n",
       "    </tr>\n",
       "  </thead>\n",
       "  <tbody>\n",
       "    <tr>\n",
       "      <th>131072</th>\n",
       "      <td>3540b1c3-3a1e</td>\n",
       "      <td>3FA6P0LU2JR141681</td>\n",
       "      <td>14995.0</td>\n",
       "      <td>85389.0</td>\n",
       "      <td>141681</td>\n",
       "      <td>2018</td>\n",
       "      <td>Ford</td>\n",
       "      <td>Fusion Hybrid</td>\n",
       "      <td>SE</td>\n",
       "      <td>Sedan</td>\n",
       "      <td>Car</td>\n",
       "      <td>FWD</td>\n",
       "      <td>Automatic</td>\n",
       "      <td>Electric / Unleaded</td>\n",
       "      <td>2</td>\n",
       "      <td>I</td>\n",
       "      <td>auto expo houston</td>\n",
       "      <td>9820 Bissonnet Street</td>\n",
       "      <td>Houston</td>\n",
       "      <td>TX</td>\n",
       "      <td>77036.0</td>\n",
       "    </tr>\n",
       "    <tr>\n",
       "      <th>131073</th>\n",
       "      <td>4deb98b4-8955</td>\n",
       "      <td>KM8K12AA7KU260623</td>\n",
       "      <td>16900.0</td>\n",
       "      <td>60051.0</td>\n",
       "      <td>KU260623</td>\n",
       "      <td>2019</td>\n",
       "      <td>Hyundai</td>\n",
       "      <td>Kona</td>\n",
       "      <td>SE</td>\n",
       "      <td>SUV</td>\n",
       "      <td>Truck</td>\n",
       "      <td>FWD</td>\n",
       "      <td>Automatic</td>\n",
       "      <td>Unleaded</td>\n",
       "      <td>2</td>\n",
       "      <td>I</td>\n",
       "      <td>bob howard nissan</td>\n",
       "      <td>13200 North Broadway Extension</td>\n",
       "      <td>Oklahoma City</td>\n",
       "      <td>OK</td>\n",
       "      <td>73114.0</td>\n",
       "    </tr>\n",
       "    <tr>\n",
       "      <th>131074</th>\n",
       "      <td>fbb3f5a2-4bd8</td>\n",
       "      <td>3PCAJ5M15KF113772</td>\n",
       "      <td>34068.0</td>\n",
       "      <td>28100.0</td>\n",
       "      <td>ZM12666A</td>\n",
       "      <td>2019</td>\n",
       "      <td>INFINITI</td>\n",
       "      <td>QX50</td>\n",
       "      <td>Essential</td>\n",
       "      <td>SUV</td>\n",
       "      <td>Truck</td>\n",
       "      <td>FWD</td>\n",
       "      <td>Automatic</td>\n",
       "      <td>Premium Unleaded</td>\n",
       "      <td>2</td>\n",
       "      <td>I</td>\n",
       "      <td>hendrick honda</td>\n",
       "      <td>8901 South Blvd</td>\n",
       "      <td>Charlotte</td>\n",
       "      <td>NC</td>\n",
       "      <td>28273.0</td>\n",
       "    </tr>\n",
       "    <tr>\n",
       "      <th>131075</th>\n",
       "      <td>429a6478-c70c</td>\n",
       "      <td>3KPFL4A76HE069217</td>\n",
       "      <td>19995.0</td>\n",
       "      <td>27476.0</td>\n",
       "      <td>113356A</td>\n",
       "      <td>2017</td>\n",
       "      <td>Kia</td>\n",
       "      <td>Forte</td>\n",
       "      <td>LX</td>\n",
       "      <td>Sedan</td>\n",
       "      <td>Car</td>\n",
       "      <td>FWD</td>\n",
       "      <td>Automatic</td>\n",
       "      <td>Unleaded</td>\n",
       "      <td>2</td>\n",
       "      <td>I</td>\n",
       "      <td>aloha kia kona</td>\n",
       "      <td>75-5645 Kuakini Highway</td>\n",
       "      <td>Kailua Kona</td>\n",
       "      <td>HI</td>\n",
       "      <td>96740.0</td>\n",
       "    </tr>\n",
       "    <tr>\n",
       "      <th>131076</th>\n",
       "      <td>bd8df35d-a5c1</td>\n",
       "      <td>WAUBNCF52JA013260</td>\n",
       "      <td>37649.0</td>\n",
       "      <td>12509.0</td>\n",
       "      <td>ATJA013260</td>\n",
       "      <td>2018</td>\n",
       "      <td>Audi</td>\n",
       "      <td>A5 Sportback</td>\n",
       "      <td>Premium Plus</td>\n",
       "      <td>Hatchback</td>\n",
       "      <td>Car</td>\n",
       "      <td>4WD</td>\n",
       "      <td>Automatic</td>\n",
       "      <td>Premium Unleaded</td>\n",
       "      <td>2</td>\n",
       "      <td>I</td>\n",
       "      <td>mcdonald volvo cars</td>\n",
       "      <td>6040 South Broadway</td>\n",
       "      <td>Littleton</td>\n",
       "      <td>CO</td>\n",
       "      <td>80121.0</td>\n",
       "    </tr>\n",
       "    <tr>\n",
       "      <th>...</th>\n",
       "      <td>...</td>\n",
       "      <td>...</td>\n",
       "      <td>...</td>\n",
       "      <td>...</td>\n",
       "      <td>...</td>\n",
       "      <td>...</td>\n",
       "      <td>...</td>\n",
       "      <td>...</td>\n",
       "      <td>...</td>\n",
       "      <td>...</td>\n",
       "      <td>...</td>\n",
       "      <td>...</td>\n",
       "      <td>...</td>\n",
       "      <td>...</td>\n",
       "      <td>...</td>\n",
       "      <td>...</td>\n",
       "      <td>...</td>\n",
       "      <td>...</td>\n",
       "      <td>...</td>\n",
       "      <td>...</td>\n",
       "      <td>...</td>\n",
       "    </tr>\n",
       "    <tr>\n",
       "      <th>499993</th>\n",
       "      <td>2afbbdab-f39b</td>\n",
       "      <td>1FADP3K26JL304520</td>\n",
       "      <td>17995.0</td>\n",
       "      <td>22038.0</td>\n",
       "      <td>130578</td>\n",
       "      <td>2018</td>\n",
       "      <td>Ford</td>\n",
       "      <td>Focus</td>\n",
       "      <td>SE</td>\n",
       "      <td>Hatchback</td>\n",
       "      <td>Car</td>\n",
       "      <td>FWD</td>\n",
       "      <td>Automatic</td>\n",
       "      <td>Unleaded</td>\n",
       "      <td>2</td>\n",
       "      <td>I</td>\n",
       "      <td>crown dodge</td>\n",
       "      <td>555 W Cypress Avenue</td>\n",
       "      <td>Redding</td>\n",
       "      <td>CA</td>\n",
       "      <td>96001.0</td>\n",
       "    </tr>\n",
       "    <tr>\n",
       "      <th>499994</th>\n",
       "      <td>c5836cec-f239</td>\n",
       "      <td>1FADP3F28JL242127</td>\n",
       "      <td>14377.0</td>\n",
       "      <td>57223.0</td>\n",
       "      <td>923464A</td>\n",
       "      <td>2018</td>\n",
       "      <td>Ford</td>\n",
       "      <td>Focus</td>\n",
       "      <td>SE</td>\n",
       "      <td>Sedan</td>\n",
       "      <td>Car</td>\n",
       "      <td>FWD</td>\n",
       "      <td>Manual</td>\n",
       "      <td>E85 / Unleaded</td>\n",
       "      <td>2</td>\n",
       "      <td>I</td>\n",
       "      <td>darling's brunswick ford</td>\n",
       "      <td>262 Bath Road</td>\n",
       "      <td>Brunswick</td>\n",
       "      <td>ME</td>\n",
       "      <td>4011.0</td>\n",
       "    </tr>\n",
       "    <tr>\n",
       "      <th>499995</th>\n",
       "      <td>2080fae4-9df4</td>\n",
       "      <td>1FADP3K29FL243896</td>\n",
       "      <td>8990.0</td>\n",
       "      <td>98692.0</td>\n",
       "      <td>BA217030A</td>\n",
       "      <td>2015</td>\n",
       "      <td>Ford</td>\n",
       "      <td>Focus</td>\n",
       "      <td>SE</td>\n",
       "      <td>Hatchback</td>\n",
       "      <td>Car</td>\n",
       "      <td>FWD</td>\n",
       "      <td>Manual</td>\n",
       "      <td>E85 / Unleaded</td>\n",
       "      <td>2</td>\n",
       "      <td>I</td>\n",
       "      <td>chapman volkswagen of tucson</td>\n",
       "      <td>4500 E. 22nd St.</td>\n",
       "      <td>Tucson</td>\n",
       "      <td>AZ</td>\n",
       "      <td>85711.0</td>\n",
       "    </tr>\n",
       "    <tr>\n",
       "      <th>499996</th>\n",
       "      <td>5def7566-3e38</td>\n",
       "      <td>1FADP3F22EL438134</td>\n",
       "      <td>8188.0</td>\n",
       "      <td>88554.0</td>\n",
       "      <td>M10217A</td>\n",
       "      <td>2014</td>\n",
       "      <td>Ford</td>\n",
       "      <td>Focus</td>\n",
       "      <td>SE</td>\n",
       "      <td>Sedan</td>\n",
       "      <td>Car</td>\n",
       "      <td>FWD</td>\n",
       "      <td>Manual</td>\n",
       "      <td>E85 / Unleaded</td>\n",
       "      <td>2</td>\n",
       "      <td>I</td>\n",
       "      <td>mercedes-benz of durham</td>\n",
       "      <td>110 Kentington Dr.</td>\n",
       "      <td>Durham</td>\n",
       "      <td>NC</td>\n",
       "      <td>27713.0</td>\n",
       "    </tr>\n",
       "    <tr>\n",
       "      <th>499998</th>\n",
       "      <td>43154429-d480</td>\n",
       "      <td>1FADP3F27EL151758</td>\n",
       "      <td>7950.0</td>\n",
       "      <td>101490.0</td>\n",
       "      <td>TA60261B</td>\n",
       "      <td>2014</td>\n",
       "      <td>Ford</td>\n",
       "      <td>Focus</td>\n",
       "      <td>SE</td>\n",
       "      <td>Sedan</td>\n",
       "      <td>Car</td>\n",
       "      <td>FWD</td>\n",
       "      <td>Manual</td>\n",
       "      <td>E85 / Unleaded</td>\n",
       "      <td>2</td>\n",
       "      <td>I</td>\n",
       "      <td>liberty ford maple heights</td>\n",
       "      <td>5500 Warrensville Center Road</td>\n",
       "      <td>Maple Heights</td>\n",
       "      <td>OH</td>\n",
       "      <td>44137.0</td>\n",
       "    </tr>\n",
       "  </tbody>\n",
       "</table>\n",
       "<p>68232 rows × 21 columns</p>\n",
       "</div>"
      ],
      "text/plain": [
       "                   id                vin    price     miles    stock_no  year  \\\n",
       "131072  3540b1c3-3a1e  3FA6P0LU2JR141681  14995.0   85389.0      141681  2018   \n",
       "131073  4deb98b4-8955  KM8K12AA7KU260623  16900.0   60051.0    KU260623  2019   \n",
       "131074  fbb3f5a2-4bd8  3PCAJ5M15KF113772  34068.0   28100.0    ZM12666A  2019   \n",
       "131075  429a6478-c70c  3KPFL4A76HE069217  19995.0   27476.0     113356A  2017   \n",
       "131076  bd8df35d-a5c1  WAUBNCF52JA013260  37649.0   12509.0  ATJA013260  2018   \n",
       "...               ...                ...      ...       ...         ...   ...   \n",
       "499993  2afbbdab-f39b  1FADP3K26JL304520  17995.0   22038.0      130578  2018   \n",
       "499994  c5836cec-f239  1FADP3F28JL242127  14377.0   57223.0     923464A  2018   \n",
       "499995  2080fae4-9df4  1FADP3K29FL243896   8990.0   98692.0   BA217030A  2015   \n",
       "499996  5def7566-3e38  1FADP3F22EL438134   8188.0   88554.0     M10217A  2014   \n",
       "499998  43154429-d480  1FADP3F27EL151758   7950.0  101490.0    TA60261B  2014   \n",
       "\n",
       "            make          model          trim  body_type vehicle_type  \\\n",
       "131072      Ford  Fusion Hybrid            SE      Sedan          Car   \n",
       "131073   Hyundai           Kona            SE        SUV        Truck   \n",
       "131074  INFINITI           QX50     Essential        SUV        Truck   \n",
       "131075       Kia          Forte            LX      Sedan          Car   \n",
       "131076      Audi   A5 Sportback  Premium Plus  Hatchback          Car   \n",
       "...          ...            ...           ...        ...          ...   \n",
       "499993      Ford          Focus            SE  Hatchback          Car   \n",
       "499994      Ford          Focus            SE      Sedan          Car   \n",
       "499995      Ford          Focus            SE  Hatchback          Car   \n",
       "499996      Ford          Focus            SE      Sedan          Car   \n",
       "499998      Ford          Focus            SE      Sedan          Car   \n",
       "\n",
       "       drivetrain transmission            fuel_type engine_size engine_block  \\\n",
       "131072        FWD    Automatic  Electric / Unleaded           2            I   \n",
       "131073        FWD    Automatic             Unleaded           2            I   \n",
       "131074        FWD    Automatic     Premium Unleaded           2            I   \n",
       "131075        FWD    Automatic             Unleaded           2            I   \n",
       "131076        4WD    Automatic     Premium Unleaded           2            I   \n",
       "...           ...          ...                  ...         ...          ...   \n",
       "499993        FWD    Automatic             Unleaded           2            I   \n",
       "499994        FWD       Manual       E85 / Unleaded           2            I   \n",
       "499995        FWD       Manual       E85 / Unleaded           2            I   \n",
       "499996        FWD       Manual       E85 / Unleaded           2            I   \n",
       "499998        FWD       Manual       E85 / Unleaded           2            I   \n",
       "\n",
       "                         seller_name                          street  \\\n",
       "131072             auto expo houston           9820 Bissonnet Street   \n",
       "131073             bob howard nissan  13200 North Broadway Extension   \n",
       "131074                hendrick honda                 8901 South Blvd   \n",
       "131075                aloha kia kona         75-5645 Kuakini Highway   \n",
       "131076           mcdonald volvo cars             6040 South Broadway   \n",
       "...                              ...                             ...   \n",
       "499993                   crown dodge            555 W Cypress Avenue   \n",
       "499994      darling's brunswick ford                   262 Bath Road   \n",
       "499995  chapman volkswagen of tucson                4500 E. 22nd St.   \n",
       "499996       mercedes-benz of durham              110 Kentington Dr.   \n",
       "499998    liberty ford maple heights   5500 Warrensville Center Road   \n",
       "\n",
       "                 city state      zip  \n",
       "131072        Houston    TX  77036.0  \n",
       "131073  Oklahoma City    OK  73114.0  \n",
       "131074      Charlotte    NC  28273.0  \n",
       "131075    Kailua Kona    HI  96740.0  \n",
       "131076      Littleton    CO  80121.0  \n",
       "...               ...   ...      ...  \n",
       "499993        Redding    CA  96001.0  \n",
       "499994      Brunswick    ME   4011.0  \n",
       "499995         Tucson    AZ  85711.0  \n",
       "499996         Durham    NC  27713.0  \n",
       "499998  Maple Heights    OH  44137.0  \n",
       "\n",
       "[68232 rows x 21 columns]"
      ]
     },
     "execution_count": 131,
     "metadata": {},
     "output_type": "execute_result"
    }
   ],
   "source": [
    "df[df.zip.str.replace('.0','').str.isdigit().isna()]"
   ]
  },
  {
   "cell_type": "code",
   "execution_count": 123,
   "metadata": {},
   "outputs": [
    {
     "data": {
      "text/plain": [
       "0         True\n",
       "1         True\n",
       "2         True\n",
       "3         True\n",
       "6         True\n",
       "          ... \n",
       "499993     NaN\n",
       "499994     NaN\n",
       "499995     NaN\n",
       "499996     NaN\n",
       "499998     NaN\n",
       "Name: zip, Length: 404000, dtype: object"
      ]
     },
     "execution_count": 123,
     "metadata": {},
     "output_type": "execute_result"
    }
   ],
   "source": [
    "df.zip.str.isdigit()"
   ]
  },
  {
   "cell_type": "code",
   "execution_count": 76,
   "metadata": {},
   "outputs": [
    {
     "data": {
      "text/plain": [
       "id              False\n",
       "vin             False\n",
       "price           False\n",
       "miles           False\n",
       "stock_no        False\n",
       "year            False\n",
       "make            False\n",
       "model           False\n",
       "trim            False\n",
       "body_type       False\n",
       "vehicle_type    False\n",
       "drivetrain      False\n",
       "transmission    False\n",
       "fuel_type       False\n",
       "engine_size     False\n",
       "engine_block    False\n",
       "seller_name     False\n",
       "street          False\n",
       "city            False\n",
       "state           False\n",
       "zip             False\n",
       "dtype: bool"
      ]
     },
     "execution_count": 76,
     "metadata": {},
     "output_type": "execute_result"
    }
   ],
   "source": [
    "df.isin(['']).any()"
   ]
  },
  {
   "cell_type": "code",
   "execution_count": 55,
   "metadata": {},
   "outputs": [
    {
     "data": {
      "text/html": [
       "<div>\n",
       "<style scoped>\n",
       "    .dataframe tbody tr th:only-of-type {\n",
       "        vertical-align: middle;\n",
       "    }\n",
       "\n",
       "    .dataframe tbody tr th {\n",
       "        vertical-align: top;\n",
       "    }\n",
       "\n",
       "    .dataframe thead th {\n",
       "        text-align: right;\n",
       "    }\n",
       "</style>\n",
       "<table border=\"1\" class=\"dataframe\">\n",
       "  <thead>\n",
       "    <tr style=\"text-align: right;\">\n",
       "      <th></th>\n",
       "      <th>id</th>\n",
       "      <th>vin</th>\n",
       "      <th>price</th>\n",
       "      <th>miles</th>\n",
       "      <th>stock_no</th>\n",
       "      <th>year</th>\n",
       "      <th>make</th>\n",
       "      <th>model</th>\n",
       "      <th>trim</th>\n",
       "      <th>body_type</th>\n",
       "      <th>vehicle_type</th>\n",
       "      <th>drivetrain</th>\n",
       "      <th>transmission</th>\n",
       "      <th>fuel_type</th>\n",
       "      <th>engine_size</th>\n",
       "      <th>engine_block</th>\n",
       "      <th>seller_name</th>\n",
       "      <th>street</th>\n",
       "      <th>city</th>\n",
       "      <th>state</th>\n",
       "      <th>zip</th>\n",
       "    </tr>\n",
       "  </thead>\n",
       "  <tbody>\n",
       "    <tr>\n",
       "      <th>199999</th>\n",
       "      <td>id</td>\n",
       "      <td>vin</td>\n",
       "      <td>price</td>\n",
       "      <td>miles</td>\n",
       "      <td>stock_no</td>\n",
       "      <td>year</td>\n",
       "      <td>make</td>\n",
       "      <td>model</td>\n",
       "      <td>trim</td>\n",
       "      <td>body_type</td>\n",
       "      <td>vehicle_type</td>\n",
       "      <td>drivetrain</td>\n",
       "      <td>transmission</td>\n",
       "      <td>fuel_type</td>\n",
       "      <td>engine_size</td>\n",
       "      <td>engine_block</td>\n",
       "      <td>seller_name</td>\n",
       "      <td>street</td>\n",
       "      <td>city</td>\n",
       "      <td>state</td>\n",
       "      <td>zip</td>\n",
       "    </tr>\n",
       "  </tbody>\n",
       "</table>\n",
       "</div>"
      ],
      "text/plain": [
       "        id  vin  price  miles  stock_no  year  make  model  trim  body_type  \\\n",
       "199999  id  vin  price  miles  stock_no  year  make  model  trim  body_type   \n",
       "\n",
       "        vehicle_type  drivetrain  transmission  fuel_type  engine_size  \\\n",
       "199999  vehicle_type  drivetrain  transmission  fuel_type  engine_size   \n",
       "\n",
       "        engine_block  seller_name  street  city  state  zip  \n",
       "199999  engine_block  seller_name  street  city  state  zip  "
      ]
     },
     "execution_count": 55,
     "metadata": {},
     "output_type": "execute_result"
    }
   ],
   "source": [
    "df[df['price']=='price']"
   ]
  },
  {
   "cell_type": "code",
   "execution_count": 57,
   "metadata": {},
   "outputs": [],
   "source": [
    "# df.price.str.replace('0.','').astype('float64')"
   ]
  },
  {
   "cell_type": "code",
   "execution_count": 67,
   "metadata": {},
   "outputs": [
    {
     "name": "stdout",
     "output_type": "stream",
     "text": [
      "The file contains: Lines 500000 from it contains 499999 rows and  21 columns\n",
      "The file headers: id, vin, price, miles, stock_no, year, make, model, trim, body_type, vehicle_type, drivetrain, transmission, fuel_type, engine_size, engine_block, seller_name, street, city, state, zip\n"
     ]
    }
   ],
   "source": [
    "print(f'The file contains: Lines {df.shape[0]+1} from it contains {df.shape[0]} rows and  {df.shape[1]} columns')\n",
    "print(f'The file headers: {\", \".join(df.columns.to_list())}')"
   ]
  },
  {
   "cell_type": "code",
   "execution_count": null,
   "metadata": {},
   "outputs": [],
   "source": [
    "query = \"\"\"CREATE TABLE IF NOT EXISTS vehicules (\n",
    "                    id VARCHAR,\n",
    "                    vin VARCHAR,\n",
    "                    price VARCHAR,\n",
    "                    miles VARCHAR, \n",
    "                    stock_no VARCHAR, \n",
    "                    year VARCHAR, \n",
    "                    make VARCHAR, \n",
    "                    model VARCHAR, \n",
    "                    trim VARCHAR, \n",
    "                    body_type VARCHAR, \n",
    "                    vehicle_type VARCHAR, \n",
    "                    drivetrain VARCHAR, \n",
    "                    transmission VARCHAR, \n",
    "                    fuel_type VARCHAR, \n",
    "                    engine_size VARCHAR, \n",
    "                    engine_block VARCHAR, \n",
    "                    seller_name VARCHAR, \n",
    "                    street VARCHAR, \n",
    "                    city VARCHAR, \n",
    "                    state VARCHAR, \n",
    "                    zip  VARCHAR\n",
    "                    )      \n",
    "\"\"\""
   ]
  },
  {
   "cell_type": "code",
   "execution_count": 50,
   "metadata": {},
   "outputs": [
    {
     "data": {
      "text/plain": [
       "id              object\n",
       "vin             object\n",
       "price           object\n",
       "miles           object\n",
       "stock_no        object\n",
       "year            object\n",
       "make            object\n",
       "model           object\n",
       "trim            object\n",
       "body_type       object\n",
       "vehicle_type    object\n",
       "drivetrain      object\n",
       "transmission    object\n",
       "fuel_type       object\n",
       "engine_size     object\n",
       "engine_block    object\n",
       "seller_name     object\n",
       "street          object\n",
       "city            object\n",
       "state           object\n",
       "zip             object\n",
       "dtype: object"
      ]
     },
     "execution_count": 50,
     "metadata": {},
     "output_type": "execute_result"
    }
   ],
   "source": [
    "df.dtypes"
   ]
  }
 ],
 "metadata": {
  "kernelspec": {
   "display_name": "Python 3 (ipykernel)",
   "language": "python",
   "name": "python3"
  },
  "language_info": {
   "codemirror_mode": {
    "name": "ipython",
    "version": 3
   },
   "file_extension": ".py",
   "mimetype": "text/x-python",
   "name": "python",
   "nbconvert_exporter": "python",
   "pygments_lexer": "ipython3",
   "version": "3.10.4"
  },
  "vscode": {
   "interpreter": {
    "hash": "ea8120f11331ce9fe6cfda4bbc9b1a6da9cac5192fe06c50d78bbd0e2f2f7df3"
   }
  }
 },
 "nbformat": 4,
 "nbformat_minor": 2
}
